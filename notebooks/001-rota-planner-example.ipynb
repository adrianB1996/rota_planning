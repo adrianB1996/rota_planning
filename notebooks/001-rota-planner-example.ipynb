{
 "cells": [
  {
   "cell_type": "markdown",
   "id": "9a98b269-6acd-4f44-9b13-7e97617203b5",
   "metadata": {},
   "source": [
    "# Rota Planner\n",
    "\n",
    "**Author** Alan Meeson\n",
    "\n",
    "**Date:** 2023-10-14\n",
    "\n",
    "This notebook gives an example of using the rota_planner package to automatically plan a rota for a set of doctors who have specified some preferences as to time off."
   ]
  },
  {
   "cell_type": "code",
   "execution_count": null,
   "id": "7a2ea158-7606-4546-bc67-5a6945486a65",
   "metadata": {},
   "outputs": [],
   "source": [
    "import sys\n",
    "from pyprojroot import here\n",
    "sys.path.insert(0, str(here()))"
   ]
  },
  {
   "cell_type": "code",
   "execution_count": null,
   "id": "e6f83e2c-63f0-4fdd-b07b-f8850cb8d9b5",
   "metadata": {},
   "outputs": [],
   "source": [
    "from typing import TypedDict, List, Dict\n",
    "from enum import Enum\n",
    "from itertools import product\n",
    "from copy import deepcopy\n",
    "from datetime import datetime, timedelta, date\n",
    "from collections import defaultdict\n",
    "import numpy as np\n",
    "import random"
   ]
  },
  {
   "cell_type": "code",
   "execution_count": null,
   "id": "1355fc59-da36-402d-ae1d-928898cd29c0",
   "metadata": {},
   "outputs": [],
   "source": [
    "from rota_planner.problem import Problem\n",
    "from rota_planner.shift import Shift, ShiftType\n",
    "from rota_planner.doctor import Doctor, Preference\n",
    "from rota_planner.template import TemplateRota, Weekday"
   ]
  },
  {
   "cell_type": "code",
   "execution_count": null,
   "id": "7d42d633-ff9f-41e1-a333-824a12c804b8",
   "metadata": {},
   "outputs": [],
   "source": [
    "def average_hours(rota, doctor, start_date, end_date)-> float:\n",
    "    pass\n",
    "\n",
    "def average_contractual_hours(rota, doctor, start_date, end_date) -> float:\n",
    "    pass\n",
    "\n",
    "def total_hours(rota, doctor, start_date, end_date) -> float:\n",
    "    pass\n",
    "\n",
    "def max_weekend_frequency(rota, doctor) -> int:\n",
    "    pass"
   ]
  },
  {
   "cell_type": "markdown",
   "id": "27077fb0-053c-4d51-8d83-8b8fc313afda",
   "metadata": {},
   "source": [
    "### time constraints\n",
    "- [x] min 11 hours between shifts\n",
    "- [ ] max 7 consecutive shifts; then 48 hours off\n",
    "- [x] max 72 hours in 168 hour period\n",
    "- [x] max 48 hours/week average over 8 weeks\n",
    "- [ ] min 40 hours/week average over 8 weeks\n",
    "- [ ] max 1 in 3 weekends\n",
    "- [ ] max 4 consecutive night shifts (then 46 hours off)\n",
    "- [ ] max 4 consecutive on call\n",
    "    - [ ] if all 4 then 48 hours rest."
   ]
  },
  {
   "cell_type": "code",
   "execution_count": null,
   "id": "af7d5b6d-166e-4342-bd11-d0f81d669d2f",
   "metadata": {},
   "outputs": [],
   "source": []
  },
  {
   "cell_type": "markdown",
   "id": "3415a82c-7b7b-4bf6-a65d-c87b576f4b73",
   "metadata": {},
   "source": [
    "### conditionals constraints\n",
    "\n",
    "- once on, off for 11 hours\n",
    "- once on for x, off for 46/48 hours\n",
    "\n",
    "\n",
    "Assign, then merge?\n",
    "\n",
    "Moves:\n",
    "- Assign doctor to shift, if viable\n",
    "- once assigned, apply any merge moves\n",
    "- once assigned, apply any new constraints.\n",
    "- if not viable, fail."
   ]
  },
  {
   "cell_type": "markdown",
   "id": "5e889708-1778-4557-a347-d7656e2e70b9",
   "metadata": {},
   "source": [
    "## Lets try it out\n",
    "\n",
    "### Start by declaring a template and generating shifts from it"
   ]
  },
  {
   "cell_type": "code",
   "execution_count": null,
   "id": "8bb25461-0bcc-471d-8c59-5e971ccbe3a6",
   "metadata": {},
   "outputs": [],
   "source": [
    "template_rota = TemplateRota()\n",
    "\n",
    "for weekday in Weekday:\n",
    "    # 2 Long day doctors 9am to 9pm (any level) 7 days a week\n",
    "    template_rota.add_shift(\n",
    "        day = weekday.value,\n",
    "        shift_type = ShiftType.ONCALL,\n",
    "        start_time = timedelta(hours=9),\n",
    "        end_time = timedelta(hours=21),\n",
    "        num_required = 2\n",
    "    )\n",
    "\n",
    "    # 2 doctors on nights 9pm to 9am (not F1) 7 days a week\n",
    "    template_rota.add_shift(\n",
    "        day = weekday.value,\n",
    "        shift_type = ShiftType.NIGHT,\n",
    "        start_time = timedelta(hours=21),\n",
    "        end_time = timedelta(days=1, hours=9),\n",
    "        num_required = 2\n",
    "    )\n",
    "\n",
    "mon_to_fri = set(Weekday) - {Weekday.SATURDAY, Weekday.SUNDAY}\n",
    "for weekday in mon_to_fri:\n",
    "    # 1 twilight shift 2pm to 11pm  (not F1 - monday to friday only)\n",
    "    template_rota.add_shift(\n",
    "        day = weekday.value,\n",
    "        shift_type = ShiftType.STANDARD,\n",
    "        start_time = timedelta(hours=14),\n",
    "        end_time = timedelta(hours=23),\n",
    "        num_required = 1\n",
    "    )\n",
    "\n",
    "    # minimum 6 doctors on standard days (9-5, m-f)  (any level) - Monday to Friday\n",
    "    template_rota.add_shift(\n",
    "        day = weekday.value,\n",
    "        shift_type = ShiftType.STANDARD,\n",
    "        start_time = timedelta(hours=9),\n",
    "        end_time = timedelta(hours=17),\n",
    "        num_required = 6\n",
    "    )\n",
    "\n",
    "# 1 Weekend day shift 9pm to 5pm (F1 only)\n",
    "for weekday in {Weekday.SATURDAY, Weekday.SUNDAY}:\n",
    "    template_rota.add_shift(\n",
    "        day = weekday.value,\n",
    "        shift_type = ShiftType.STANDARD,\n",
    "        start_time = timedelta(hours=9),\n",
    "        end_time = timedelta(hours=17),\n",
    "        num_required = 1\n",
    "    )\n",
    "\n"
   ]
  },
  {
   "cell_type": "code",
   "execution_count": null,
   "id": "7cc5f32d-2c6c-4e8e-ab34-a2f2d952cfe1",
   "metadata": {},
   "outputs": [],
   "source": [
    "template_rota = TemplateRota()\n",
    "\n",
    "for weekday in Weekday:\n",
    "    # 2 Long day doctors 9am to 9pm (any level) 7 days a week\n",
    "    template_rota.add_shift(\n",
    "        day = weekday.value,\n",
    "        shift_type = ShiftType.ONCALL,\n",
    "        start_time = timedelta(hours=9),\n",
    "        end_time = timedelta(hours=21),\n",
    "        num_required = 1\n",
    "    )\n",
    "\n",
    "    # 2 doctors on nights 9pm to 9am (not F1) 7 days a week\n",
    "    template_rota.add_shift(\n",
    "        day = weekday.value,\n",
    "        shift_type = ShiftType.NIGHT,\n",
    "        start_time = timedelta(hours=21),\n",
    "        end_time = timedelta(days=1, hours=9),\n",
    "        num_required = 1\n",
    "    )\n",
    "\n",
    "mon_to_fri = set(Weekday) - {Weekday.SATURDAY, Weekday.SUNDAY}\n",
    "for weekday in mon_to_fri:\n",
    "    # 1 twilight shift 2pm to 11pm  (not F1 - monday to friday only)\n",
    "    template_rota.add_shift(\n",
    "        day = weekday.value,\n",
    "        shift_type = ShiftType.STANDARD,\n",
    "        start_time = timedelta(hours=14),\n",
    "        end_time = timedelta(hours=23),\n",
    "        num_required = 1\n",
    "    )\n",
    "\n",
    "    # minimum 6 doctors on standard days (9-5, m-f)  (any level) - Monday to Friday\n",
    "    template_rota.add_shift(\n",
    "        day = weekday.value,\n",
    "        shift_type = ShiftType.STANDARD,\n",
    "        start_time = timedelta(hours=9),\n",
    "        end_time = timedelta(hours=17),\n",
    "        num_required = 1\n",
    "    )\n",
    "\n",
    "# 1 Weekend day shift 9pm to 5pm (F1 only)\n",
    "for weekday in {Weekday.SATURDAY, Weekday.SUNDAY}:\n",
    "    template_rota.add_shift(\n",
    "        day = weekday.value,\n",
    "        shift_type = ShiftType.STANDARD,\n",
    "        start_time = timedelta(hours=9),\n",
    "        end_time = timedelta(hours=17),\n",
    "        num_required = 1\n",
    "    )\n",
    "\n"
   ]
  },
  {
   "cell_type": "code",
   "execution_count": null,
   "id": "0be0e25c-9d6c-4271-bcbe-522b16903e4d",
   "metadata": {},
   "outputs": [],
   "source": [
    "# Creating a rota for 8 weeks from 1st november\n",
    "#shifts = template_rota.create_shifts(\n",
    "#    start_date=datetime(2023,11, 1), \n",
    "#    num_days=14*7  # 14 weeks of rota to go from nov 1st to feb 1st\n",
    "#)"
   ]
  },
  {
   "cell_type": "code",
   "execution_count": null,
   "id": "8bbf177e-f303-4e4c-8126-1dd4ce318ef6",
   "metadata": {},
   "outputs": [],
   "source": [
    "# Lets start with just 1 week to keep it simple\n",
    "shifts = template_rota.create_shifts(\n",
    "    start_date=datetime(2023,12, 23), \n",
    "    num_days=7\n",
    ")\n",
    "len(shifts)"
   ]
  },
  {
   "cell_type": "markdown",
   "id": "09af7a59-6fd8-491d-89cf-8d8d0383a8ae",
   "metadata": {
    "execution": {
     "iopub.execute_input": "2023-10-14T21:37:55.743775Z",
     "iopub.status.busy": "2023-10-14T21:37:55.743502Z",
     "iopub.status.idle": "2023-10-14T21:37:55.746724Z",
     "shell.execute_reply": "2023-10-14T21:37:55.746149Z",
     "shell.execute_reply.started": "2023-10-14T21:37:55.743755Z"
    }
   },
   "source": [
    "### Now Declare some Doctors and add some days off"
   ]
  },
  {
   "cell_type": "code",
   "execution_count": null,
   "id": "008ab112-dc3f-4df5-89bd-b672206ff323",
   "metadata": {},
   "outputs": [],
   "source": [
    "# 20 Doctors  (5 F1s, 15 other SHOs)\n",
    "num_doctors = 7\n",
    "doctors = [Doctor(f\"Doctor {idx}\") for idx in range(num_doctors)]\n",
    "len(doctors)"
   ]
  },
  {
   "cell_type": "code",
   "execution_count": null,
   "id": "eecc637b-11c4-4c24-a2f8-d8e568415518",
   "metadata": {},
   "outputs": [],
   "source": [
    "# Everyone wants xmas day off\n",
    "for doctor in doctors:\n",
    "    doctor.add_preference(datetime(2023,12,25))\n",
    "\n",
    "# Some want valentines day off\n",
    "for doctor in random.sample(doctors, 2):\n",
    "    doctor.add_preference(datetime(2024, 2, 14))\n",
    "\n",
    "# Some want new years off\n",
    "for doctor in random.sample(doctors, 2):\n",
    "    doctor.add_preference(datetime(2024, 1, 1))"
   ]
  },
  {
   "cell_type": "markdown",
   "id": "64bffead-ff09-407b-a43d-699e437c6fc3",
   "metadata": {},
   "source": [
    "### Now lets try to solve it"
   ]
  },
  {
   "cell_type": "code",
   "execution_count": null,
   "id": "f06a297d-30ae-423e-a00e-008aa9e556e5",
   "metadata": {},
   "outputs": [],
   "source": [
    "problem = Problem(shifts, doctors)"
   ]
  },
  {
   "cell_type": "code",
   "execution_count": null,
   "id": "66795be0-ba04-427f-8e08-2a1ff717a1cd",
   "metadata": {},
   "outputs": [],
   "source": [
    "t_start = datetime.now()\n",
    "solution = problem.solve()\n",
    "t_end = datetime.now()\n",
    "(t_end - t_start).seconds"
   ]
  }
 ],
 "metadata": {
  "kernelspec": {
   "display_name": "Python 3 (ipykernel)",
   "language": "python",
   "name": "python3"
  },
  "language_info": {
   "codemirror_mode": {
    "name": "ipython",
    "version": 3
   },
   "file_extension": ".py",
   "mimetype": "text/x-python",
   "name": "python",
   "nbconvert_exporter": "python",
   "pygments_lexer": "ipython3",
   "version": "3.10.12"
  }
 },
 "nbformat": 4,
 "nbformat_minor": 5
}
