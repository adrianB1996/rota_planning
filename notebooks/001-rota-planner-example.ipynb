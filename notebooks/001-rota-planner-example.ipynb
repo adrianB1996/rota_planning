{
 "cells": [
  {
   "cell_type": "markdown",
   "id": "9a98b269-6acd-4f44-9b13-7e97617203b5",
   "metadata": {},
   "source": [
    "# Rota Planner\n",
    "\n",
    "**Author** Alan Meeson\n",
    "\n",
    "**Date:** 2023-10-14\n",
    "\n",
    "This notebook gives an example of using the rota_planner package to automatically plan a rota for a set of doctors who have specified some preferences as to time off."
   ]
  },
  {
   "cell_type": "code",
   "execution_count": null,
   "id": "7a2ea158-7606-4546-bc67-5a6945486a65",
   "metadata": {},
   "outputs": [],
   "source": [
    "import sys\n",
    "from pyprojroot import here\n",
    "sys.path.insert(0, str(here()))"
   ]
  },
  {
   "cell_type": "code",
   "execution_count": null,
   "id": "e6f83e2c-63f0-4fdd-b07b-f8850cb8d9b5",
   "metadata": {},
   "outputs": [],
   "source": [
    "from typing import TypedDict, List, Dict\n",
    "from enum import Enum\n",
    "from itertools import product\n",
    "from copy import deepcopy\n",
    "from datetime import datetime, timedelta, date\n",
    "from collections import defaultdict\n",
    "import numpy as np\n",
    "import random\n",
    "import pandas as pd"
   ]
  },
  {
   "cell_type": "code",
   "execution_count": null,
   "id": "1355fc59-da36-402d-ae1d-928898cd29c0",
   "metadata": {},
   "outputs": [],
   "source": [
    "from rota_planner.problem import Problem\n",
    "from rota_planner.shift import Shift, ShiftType\n",
    "from rota_planner.doctor import Doctor, Preference\n",
    "from rota_planner.template import TemplateRota, Weekday"
   ]
  },
  {
   "cell_type": "markdown",
   "id": "27077fb0-053c-4d51-8d83-8b8fc313afda",
   "metadata": {},
   "source": [
    "## Constraints\n",
    "\n",
    "### time constraints\n",
    "- [x] min 11 hours between shifts\n",
    "- [ ] max 7 consecutive shifts; then 48 hours off\n",
    "- [x] max 72 hours in 168 hour period\n",
    "- [x] max 48 hours/week average over 8 weeks\n",
    "- [ ] min 40 hours/week average over 8 weeks\n",
    "- [ ] max 1 in 3 weekends\n",
    "- [ ] max 4 consecutive night shifts (then 46 hours off)\n",
    "- [ ] max 4 consecutive on call\n",
    "    - [ ] if all 4 then 48 hours rest.\n",
    "     \n",
    "### conditionals constraints\n",
    "\n",
    "- once on, off for 11 hours\n",
    "- once on for x, off for 46/48 hours\n",
    "\n",
    "\n",
    "Assign, then merge?\n",
    "\n",
    "Moves:\n",
    "- Assign doctor to shift, if viable\n",
    "- once assigned, apply any merge moves\n",
    "- once assigned, apply any new constraints.\n",
    "- if not viable, fail."
   ]
  },
  {
   "cell_type": "markdown",
   "id": "5e889708-1778-4557-a347-d7656e2e70b9",
   "metadata": {},
   "source": [
    "## Lets try it out\n",
    "\n",
    "### Start by declaring a template and generating shifts from it"
   ]
  },
  {
   "cell_type": "markdown",
   "id": "f57be596-74c1-45c3-961a-7039fe25b647",
   "metadata": {},
   "source": [
    "##### We'll temporarily comment out this one, as it's a little too big for the algo currently"
   ]
  },
  {
   "cell_type": "code",
   "execution_count": null,
   "id": "8bb25461-0bcc-471d-8c59-5e971ccbe3a6",
   "metadata": {},
   "outputs": [],
   "source": [
    "template_rota = TemplateRota()\n",
    "\n",
    "for weekday in Weekday:\n",
    "    # 2 Long day doctors 9am to 9pm (any level) 7 days a week\n",
    "    template_rota.add_shift(\n",
    "        day = weekday.value,\n",
    "        shift_type = ShiftType.ONCALL,\n",
    "        start_time = timedelta(hours=9),\n",
    "        end_time = timedelta(hours=21),\n",
    "        num_required = 2\n",
    "    )\n",
    "\n",
    "    # 2 doctors on nights 9pm to 9am (not F1) 7 days a week\n",
    "    template_rota.add_shift(\n",
    "        day = weekday.value,\n",
    "        shift_type = ShiftType.NIGHT,\n",
    "        start_time = timedelta(hours=21),\n",
    "        end_time = timedelta(days=1, hours=9),\n",
    "        num_required = 2\n",
    "    )\n",
    "\n",
    "mon_to_fri = set(Weekday) - {Weekday.SATURDAY, Weekday.SUNDAY}\n",
    "for weekday in mon_to_fri:\n",
    "    # 1 twilight shift 2pm to 11pm  (not F1 - monday to friday only)\n",
    "    template_rota.add_shift(\n",
    "        day = weekday.value,\n",
    "        shift_type = ShiftType.STANDARD,\n",
    "        start_time = timedelta(hours=14),\n",
    "        end_time = timedelta(hours=23),\n",
    "        num_required = 1\n",
    "    )\n",
    "\n",
    "    # minimum 6 doctors on standard days (9-5, m-f)  (any level) - Monday to Friday\n",
    "    template_rota.add_shift(\n",
    "        day = weekday.value,\n",
    "        shift_type = ShiftType.STANDARD,\n",
    "        start_time = timedelta(hours=9),\n",
    "        end_time = timedelta(hours=17),\n",
    "        num_required = 6\n",
    "    )\n",
    "\n",
    "# 1 Weekend day shift 9pm to 5pm (F1 only)\n",
    "for weekday in {Weekday.SATURDAY, Weekday.SUNDAY}:\n",
    "    template_rota.add_shift(\n",
    "        day = weekday.value,\n",
    "        shift_type = ShiftType.STANDARD,\n",
    "        start_time = timedelta(hours=9),\n",
    "        end_time = timedelta(hours=17),\n",
    "        num_required = 1\n",
    "    )\n",
    "\n"
   ]
  },
  {
   "cell_type": "code",
   "execution_count": null,
   "id": "0be0e25c-9d6c-4271-bcbe-522b16903e4d",
   "metadata": {},
   "outputs": [],
   "source": [
    "# Creating a rota for 8 weeks from 1st november\n",
    "shifts = template_rota.create_shifts(\n",
    "    start_date=datetime(2023,11, 1), \n",
    "    num_days=14*7  # 14 weeks of rota to go from nov 1st to feb 1st\n",
    ")"
   ]
  },
  {
   "cell_type": "markdown",
   "id": "de9ee408-aa6a-4e9c-a089-a14e2cfdd40e",
   "metadata": {},
   "source": [
    "#### A smaller problem that the algo can currently solve"
   ]
  },
  {
   "cell_type": "code",
   "execution_count": null,
   "id": "7cc5f32d-2c6c-4e8e-ab34-a2f2d952cfe1",
   "metadata": {},
   "outputs": [],
   "source": [
    "template_rota = TemplateRota()\n",
    "\n",
    "for weekday in Weekday:\n",
    "    # 2 Long day doctors 9am to 9pm (any level) 7 days a week\n",
    "    template_rota.add_shift(\n",
    "        day = weekday.value,\n",
    "        shift_type = ShiftType.ONCALL,\n",
    "        start_time = timedelta(hours=9),\n",
    "        end_time = timedelta(hours=21),\n",
    "        num_required = 1\n",
    "    )\n",
    "\n",
    "    # 2 doctors on nights 9pm to 9am (not F1) 7 days a week\n",
    "    template_rota.add_shift(\n",
    "        day = weekday.value,\n",
    "        shift_type = ShiftType.NIGHT,\n",
    "        start_time = timedelta(hours=21),\n",
    "        end_time = timedelta(days=1, hours=9),\n",
    "        num_required = 1\n",
    "    )\n",
    "\n",
    "mon_to_fri = set(Weekday) - {Weekday.SATURDAY, Weekday.SUNDAY}\n",
    "for weekday in mon_to_fri:\n",
    "    # 1 twilight shift 2pm to 11pm  (not F1 - monday to friday only)\n",
    "    template_rota.add_shift(\n",
    "        day = weekday.value,\n",
    "        shift_type = ShiftType.STANDARD,\n",
    "        start_time = timedelta(hours=14),\n",
    "        end_time = timedelta(hours=23),\n",
    "        num_required = 1\n",
    "    )\n",
    "\n",
    "    # minimum 6 doctors on standard days (9-5, m-f)  (any level) - Monday to Friday\n",
    "    template_rota.add_shift(\n",
    "        day = weekday.value,\n",
    "        shift_type = ShiftType.STANDARD,\n",
    "        start_time = timedelta(hours=9),\n",
    "        end_time = timedelta(hours=17),\n",
    "        num_required = 1\n",
    "    )\n",
    "\n",
    "# 1 Weekend day shift 9pm to 5pm (F1 only)\n",
    "for weekday in {Weekday.SATURDAY, Weekday.SUNDAY}:\n",
    "    template_rota.add_shift(\n",
    "        day = weekday.value,\n",
    "        shift_type = ShiftType.STANDARD,\n",
    "        start_time = timedelta(hours=9),\n",
    "        end_time = timedelta(hours=17),\n",
    "        num_required = 1\n",
    "    )"
   ]
  },
  {
   "cell_type": "code",
   "execution_count": null,
   "id": "8bbf177e-f303-4e4c-8126-1dd4ce318ef6",
   "metadata": {},
   "outputs": [],
   "source": [
    "# Lets start with just 1 week to keep it simple\n",
    "shifts = template_rota.create_shifts(\n",
    "    start_date=datetime(2023,12, 25), \n",
    "    num_days=7*1\n",
    ")\n",
    "len(shifts)"
   ]
  },
  {
   "cell_type": "code",
   "execution_count": null,
   "id": "360ed903-fa09-47e4-b0c6-cefe1e42420a",
   "metadata": {},
   "outputs": [],
   "source": [
    "[shift for shift in shifts if shift.is_weekend_shift()]"
   ]
  },
  {
   "cell_type": "markdown",
   "id": "09af7a59-6fd8-491d-89cf-8d8d0383a8ae",
   "metadata": {
    "execution": {
     "iopub.execute_input": "2023-10-14T21:37:55.743775Z",
     "iopub.status.busy": "2023-10-14T21:37:55.743502Z",
     "iopub.status.idle": "2023-10-14T21:37:55.746724Z",
     "shell.execute_reply": "2023-10-14T21:37:55.746149Z",
     "shell.execute_reply.started": "2023-10-14T21:37:55.743755Z"
    }
   },
   "source": [
    "### Now Declare some Doctors and add some days off"
   ]
  },
  {
   "cell_type": "code",
   "execution_count": null,
   "id": "008ab112-dc3f-4df5-89bd-b672206ff323",
   "metadata": {},
   "outputs": [],
   "source": [
    "# 20 Doctors  (5 F1s, 15 other SHOs)\n",
    "num_doctors = 7\n",
    "doctors = [Doctor(f\"Doctor {idx}\") for idx in range(num_doctors)]\n",
    "len(doctors)"
   ]
  },
  {
   "cell_type": "code",
   "execution_count": null,
   "id": "eecc637b-11c4-4c24-a2f8-d8e568415518",
   "metadata": {},
   "outputs": [],
   "source": [
    "# Everyone wants xmas day off\n",
    "for doctor in doctors:\n",
    "    doctor.add_preference(datetime(2023,12,25))\n",
    "\n",
    "# Some want valentines day off\n",
    "for doctor in random.sample(doctors, 2):\n",
    "    doctor.add_preference(datetime(2024, 2, 14))\n",
    "\n",
    "# Some want new years off\n",
    "for doctor in random.sample(doctors, 2):\n",
    "    doctor.add_preference(datetime(2024, 1, 1))"
   ]
  },
  {
   "cell_type": "markdown",
   "id": "64bffead-ff09-407b-a43d-699e437c6fc3",
   "metadata": {},
   "source": [
    "### Now lets try to solve it\n",
    "\n",
    "Note: this will take ages to run at present because we don't have enough constraints and heuristics to reduce the search space to a small enough set.\n",
    "\n",
    "Currently considering:\n",
    "- min 11 hours off between shifts\n",
    "- max 72 hours in any 168\n",
    "- max 48 hours/week average over 8 weeks.\n",
    "- prefer minimal clashes with prefered leave\n",
    "\n",
    "To reduce scope, would need to look at adding: \n",
    "- Only assign weekends together (ie: don't split sat/sun between two doctors)\n",
    "- Fair distribution of weekend/night shifts, ie: number per doctor roughly equal\n",
    "- roughly even number of hours per doctor in total over schedule\n",
    "- Prefer continuity, ie: same type of shift in a block\n"
   ]
  },
  {
   "cell_type": "code",
   "execution_count": null,
   "id": "f06a297d-30ae-423e-a00e-008aa9e556e5",
   "metadata": {},
   "outputs": [],
   "source": [
    "problem = Problem(shifts, doctors)"
   ]
  },
  {
   "cell_type": "code",
   "execution_count": null,
   "id": "ebb0f6a5-4c9c-4add-9deb-da8583593e6d",
   "metadata": {},
   "outputs": [],
   "source": [
    "days_in_rota = list({shift.date for shift in problem.shifts})\n",
    "days_in_rota.sort()\n",
    "\n",
    "clashes = dict()\n",
    "for day in days_in_rota:\n",
    "    todays_shifts = [shift for shift in problem.shifts if shift.date == day]\n",
    "    todays_clashes = [doctor.is_clash(shift) for doctor in problem.doctors for shift in todays_shifts]\n",
    "    clashes[day] = len(todays_clashes)\n",
    "\n",
    "# How many days to we have to disapoint everyone on\n",
    "num_bad_days = len([v for v in clashes.values() if v == len(problem.doctors)])\n",
    "\n",
    "# How bad is this dissapointment to each of the doctors\n",
    "badness_score = sum([num_bad_days / len(doctor.preferences) for doctor in problem.doctors]) / len(problem.doctors)\n",
    "badness_score"
   ]
  },
  {
   "cell_type": "code",
   "execution_count": null,
   "id": "3cd5ad1b-3c6f-47b5-a4b0-fbf37ccab27b",
   "metadata": {},
   "outputs": [],
   "source": [
    "day = days_in_rota[0]\n",
    "todays_shifts = [shift for shift in problem.shifts if shift.date == day]\n",
    "todays_shifts[0].date"
   ]
  },
  {
   "cell_type": "code",
   "execution_count": null,
   "id": "42683550-18a6-40e4-9452-1e53c5f0196b",
   "metadata": {},
   "outputs": [],
   "source": [
    "len(doctors)"
   ]
  },
  {
   "cell_type": "code",
   "execution_count": null,
   "id": "1f23e6bf-b8be-43b4-b23a-1568b8183ab1",
   "metadata": {},
   "outputs": [],
   "source": [
    "problem.shifts[0].date"
   ]
  },
  {
   "cell_type": "code",
   "execution_count": null,
   "id": "5ba80dbd-0085-432f-8733-f423b303cb68",
   "metadata": {},
   "outputs": [],
   "source": [
    "problem.calc_minimum_disapointment()\n",
    "problem._min_dissapointment = 4/3  # manual hack for now."
   ]
  },
  {
   "cell_type": "code",
   "execution_count": null,
   "id": "66795be0-ba04-427f-8e08-2a1ff717a1cd",
   "metadata": {},
   "outputs": [],
   "source": [
    "t_start = datetime.now()\n",
    "solution = problem.solve()\n",
    "t_end = datetime.now()\n",
    "(t_end - t_start).seconds"
   ]
  },
  {
   "cell_type": "code",
   "execution_count": null,
   "id": "26ccc2aa-5ebf-4e4c-a430-7c3e5af8a56b",
   "metadata": {},
   "outputs": [],
   "source": [
    "solution = problem.current_best"
   ]
  },
  {
   "cell_type": "code",
   "execution_count": null,
   "id": "1d859212-8301-4d55-a4d5-fba5a1c3f6e8",
   "metadata": {},
   "outputs": [],
   "source": [
    "doctors_shifts = problem.get_doctors_rota(solution, 4)\n",
    "for shift in doctors_shifts:\n",
    "    print(shift)"
   ]
  },
  {
   "cell_type": "code",
   "execution_count": null,
   "id": "f765b3b3-2f8f-4567-8525-6d7a3a2bc6a2",
   "metadata": {},
   "outputs": [],
   "source": [
    "num_hours = sum([shift.duration() for shift in doctors_shifts])\n",
    "num_hours"
   ]
  },
  {
   "cell_type": "code",
   "execution_count": null,
   "id": "80b5df6e-c074-46df-ad1f-08bc969d3db1",
   "metadata": {},
   "outputs": [],
   "source": [
    "from collections import Counter\n",
    "Counter(solution.assignments.values())"
   ]
  },
  {
   "cell_type": "code",
   "execution_count": null,
   "id": "7e74a136-4165-4716-b6e1-1dd9324fe5f3",
   "metadata": {},
   "outputs": [],
   "source": [
    "all_dates = list({shift.start_time.date() for shift in shifts})\n",
    "all_dates.sort()"
   ]
  },
  {
   "cell_type": "code",
   "execution_count": null,
   "id": "3510fb28-13e2-4fa1-ac78-2cb54461ad0c",
   "metadata": {},
   "outputs": [],
   "source": [
    "all_doctors = [doctor.name for doctor in doctors]"
   ]
  },
  {
   "cell_type": "code",
   "execution_count": null,
   "id": "ca826e8e-3752-40f2-8700-9f6609937bc4",
   "metadata": {},
   "outputs": [],
   "source": [
    "schedule = pd.DataFrame(\n",
    "    columns = all_dates,\n",
    "    index = all_doctors\n",
    ")\n",
    "for shift_id, doctor_id in solution.assignments.items():\n",
    "    shift = shifts[shift_id]\n",
    "    doctor = doctors[doctor_id]\n",
    "    schedule.loc[doctor.name,shift.start_time.date()] = shift.type.name\n",
    "\n",
    "schedule[schedule.isnull()] = ShiftType.ZERO.name\n",
    "schedule"
   ]
  },
  {
   "cell_type": "code",
   "execution_count": null,
   "id": "1488eb46-9bb9-4cd8-acaf-f126d5c0dac3",
   "metadata": {},
   "outputs": [],
   "source": []
  }
 ],
 "metadata": {
  "kernelspec": {
   "display_name": "Python 3 (ipykernel)",
   "language": "python",
   "name": "python3"
  },
  "language_info": {
   "codemirror_mode": {
    "name": "ipython",
    "version": 3
   },
   "file_extension": ".py",
   "mimetype": "text/x-python",
   "name": "python",
   "nbconvert_exporter": "python",
   "pygments_lexer": "ipython3",
   "version": "3.10.12"
  }
 },
 "nbformat": 4,
 "nbformat_minor": 5
}
