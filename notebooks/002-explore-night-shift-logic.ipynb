{
 "cells": [
  {
   "cell_type": "markdown",
   "id": "5ef65b20-f7fb-4467-bdb4-f4d4bd1a7308",
   "metadata": {},
   "source": [
    "# Night Shift Logic"
   ]
  },
  {
   "cell_type": "code",
   "execution_count": null,
   "id": "60db8baf-fc9b-4fd6-bdbb-bbb551146af9",
   "metadata": {},
   "outputs": [],
   "source": [
    "import sys\n",
    "from pyprojroot import here\n",
    "sys.path.insert(0, str(here()))"
   ]
  },
  {
   "cell_type": "code",
   "execution_count": null,
   "id": "afee896b-1e63-4630-8ea5-3b2d82a09109",
   "metadata": {},
   "outputs": [],
   "source": [
    "from typing import TypedDict, List, Dict\n",
    "from enum import Enum\n",
    "from itertools import product\n",
    "from copy import deepcopy\n",
    "from datetime import datetime, timedelta, date\n",
    "from collections import defaultdict\n",
    "import numpy as np\n",
    "import random"
   ]
  },
  {
   "cell_type": "code",
   "execution_count": null,
   "id": "1e49a2e8-88c5-467e-986f-0a32e643dfb2",
   "metadata": {},
   "outputs": [],
   "source": [
    "from rota_planner.problem import Problem\n",
    "from rota_planner.shift import Shift, ShiftType\n",
    "from rota_planner.doctor import Doctor, Preference\n",
    "from rota_planner.template import TemplateRota, Weekday"
   ]
  },
  {
   "cell_type": "code",
   "execution_count": null,
   "id": "3d56a3d4-038b-47f4-8b9a-d3ce96ae641c",
   "metadata": {},
   "outputs": [],
   "source": [
    "night_shift = Shift(\n",
    "    ShiftType.NIGHT,\n",
    "    start_time = datetime(2023, 10, 16, 21, 0),\n",
    "    end_time = datetime(2023, 10, 17, 9, 0)\n",
    ")"
   ]
  },
  {
   "cell_type": "code",
   "execution_count": null,
   "id": "9c67ea92-1708-49ad-90ba-fadfc3eaa6dc",
   "metadata": {},
   "outputs": [],
   "source": [
    "day_shift = Shift(\n",
    "    ShiftType.STANDARD,\n",
    "    start_time = datetime(2023, 10, 18, 9, 0),\n",
    "    end_time = datetime(2023,10, 18, 17, 0)\n",
    ")"
   ]
  },
  {
   "cell_type": "code",
   "execution_count": null,
   "id": "24edbe75-5980-4b29-8bb0-3f6cf8eca65e",
   "metadata": {},
   "outputs": [],
   "source": [
    "night_shift.time_between(day_shift)"
   ]
  },
  {
   "cell_type": "code",
   "execution_count": null,
   "id": "03c38bf4-7299-4c22-8a9e-3ff7b235e0e9",
   "metadata": {},
   "outputs": [],
   "source": [
    "def may_follow_night_shift(night_shift, shift):\n",
    "    if shift.type == ShiftType.NIGHT:\n",
    "        # TODO: Want to check for max 4\n",
    "        return True\n",
    "    else:\n",
    "        # Require at least 46 hours rest after night shifts.\n",
    "        return night_shift.time_between(shift) > 46"
   ]
  },
  {
   "cell_type": "code",
   "execution_count": null,
   "id": "f213c268-96ca-4314-9309-6755914db5ca",
   "metadata": {},
   "outputs": [],
   "source": [
    "may_follow_night_shift(night_shift, day_shift)"
   ]
  },
  {
   "cell_type": "code",
   "execution_count": null,
   "id": "2b62d46f-9b70-43df-b571-b226c5033f7c",
   "metadata": {},
   "outputs": [],
   "source": [
    "later_day_shift = Shift(\n",
    "    ShiftType.STANDARD,\n",
    "    start_time = datetime(2023, 10, 19, 9, 0),\n",
    "    end_time = datetime(2023,10, 19, 17, 0)\n",
    ")\n",
    "may_follow_night_shift(night_shift, later_day_shift)"
   ]
  },
  {
   "cell_type": "markdown",
   "id": "53cea75b-9212-4eef-a94b-6469d430cd9f",
   "metadata": {},
   "source": [
    "## Bonus: On Call logic"
   ]
  },
  {
   "cell_type": "code",
   "execution_count": null,
   "id": "c6207290-3074-4c5f-9168-44fc5a983fde",
   "metadata": {},
   "outputs": [],
   "source": [
    "def may_follow_oncall_shift(oncall_shift, shift):\n",
    "    if (shift.type == ShiftType.ONCALL) and not (\n",
    "            oncall_shift.is_weekend_shift() and \n",
    "            shift.is_weekend_shift()\n",
    "        ):\n",
    "        # May not have two consecutive on call shifts\n",
    "        # except on the weekend\n",
    "        \n",
    "        return False\n",
    "    elif (shift.type != ShiftType.ONCALL) and shift.duration() > 10:\n",
    "        # Day after oncall shift must not exceed 10 hours\n",
    "        return False\n",
    "    else:\n",
    "        return True"
   ]
  },
  {
   "cell_type": "code",
   "execution_count": null,
   "id": "2a450da4-4026-41b4-86f3-0aba9c98827c",
   "metadata": {},
   "outputs": [],
   "source": [
    "on_call_shift = Shift(\n",
    "    ShiftType.ONCALL,\n",
    "    start_time = datetime(2023, 10, 19, 9, 0),\n",
    "    end_time = datetime(2023,10, 19, 21, 0)\n",
    ")\n",
    "on_call_shift2 = Shift(\n",
    "    ShiftType.ONCALL,\n",
    "    start_time = datetime(2023, 10, 20, 9, 0),\n",
    "    end_time = datetime(2023,10, 20, 21, 0)\n",
    ")\n",
    "may_follow_oncall_shift(on_call_shift, on_call_shift2)"
   ]
  },
  {
   "cell_type": "code",
   "execution_count": null,
   "id": "79b4ceab-9071-4f37-94a4-33697ab247fc",
   "metadata": {},
   "outputs": [],
   "source": [
    "normal_shift = Shift(\n",
    "    ShiftType.STANDARD,\n",
    "    start_time = datetime(2023, 10, 20, 9, 0),\n",
    "    end_time = datetime(2023,10, 20, 17, 0)\n",
    ")\n",
    "may_follow_oncall_shift(on_call_shift, normal_shift)"
   ]
  },
  {
   "cell_type": "code",
   "execution_count": null,
   "id": "776cf875-f818-4bee-99b8-34af2dab3289",
   "metadata": {},
   "outputs": [],
   "source": [
    "weekend_on_call_shift = Shift(\n",
    "    ShiftType.ONCALL,\n",
    "    start_time = datetime(2023, 10, 14, 9, 0),\n",
    "    end_time = datetime(2023,10, 14, 21, 0)\n",
    ")\n",
    "weekend_on_call_shift2 = Shift(\n",
    "    ShiftType.ONCALL,\n",
    "    start_time = datetime(2023, 10, 15, 9, 0),\n",
    "    end_time = datetime(2023,10, 15, 21, 0)\n",
    ")\n",
    "may_follow_oncall_shift(weekend_on_call_shift, weekend_on_call_shift2)"
   ]
  }
 ],
 "metadata": {
  "kernelspec": {
   "display_name": "Python 3 (ipykernel)",
   "language": "python",
   "name": "python3"
  },
  "language_info": {
   "codemirror_mode": {
    "name": "ipython",
    "version": 3
   },
   "file_extension": ".py",
   "mimetype": "text/x-python",
   "name": "python",
   "nbconvert_exporter": "python",
   "pygments_lexer": "ipython3",
   "version": "3.10.12"
  }
 },
 "nbformat": 4,
 "nbformat_minor": 5
}
