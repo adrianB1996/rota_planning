{
 "cells": [
  {
   "cell_type": "markdown",
   "id": "6e32638e-cacd-4782-b986-d8857b62d79f",
   "metadata": {},
   "source": [
    "# Max hours in Period Logic"
   ]
  },
  {
   "cell_type": "code",
   "execution_count": null,
   "id": "e657c34c-a549-4d93-898b-5e7ae8e3f4c5",
   "metadata": {},
   "outputs": [],
   "source": [
    "import sys\n",
    "from pyprojroot import here\n",
    "sys.path.insert(0, str(here()))"
   ]
  },
  {
   "cell_type": "code",
   "execution_count": null,
   "id": "e7483752-2d0d-4d5c-9d8e-54efdec3950b",
   "metadata": {},
   "outputs": [],
   "source": [
    "from typing import TypedDict, List, Dict\n",
    "from enum import Enum\n",
    "from itertools import product\n",
    "from copy import deepcopy\n",
    "from datetime import datetime, timedelta, date\n",
    "from collections import defaultdict\n",
    "import numpy as np\n",
    "import random"
   ]
  },
  {
   "cell_type": "code",
   "execution_count": null,
   "id": "c7c62562-5db6-4d18-9491-9cc025d90521",
   "metadata": {},
   "outputs": [],
   "source": [
    "from rota_planner.problem import Problem\n",
    "from rota_planner.shift import Shift, ShiftType\n",
    "from rota_planner.doctor import Doctor, Preference\n",
    "from rota_planner.template import TemplateRota, Weekday\n",
    "from rota_planner.utils import calc_overlap"
   ]
  },
  {
   "cell_type": "code",
   "execution_count": null,
   "id": "5332d312-031b-44d8-9098-648d8c50e380",
   "metadata": {},
   "outputs": [],
   "source": [
    "168 / 24"
   ]
  },
  {
   "cell_type": "code",
   "execution_count": null,
   "id": "680ba85c-ccac-43ef-a01d-57e0c456abe3",
   "metadata": {},
   "outputs": [],
   "source": [
    "start_date = datetime(2023,10,16)\n",
    "\n",
    "ok_shifts = [\n",
    "    Shift(\n",
    "        ShiftType.STANDARD,\n",
    "        start_time = start_date + timedelta(days=day, hours=9),\n",
    "        end_time = start_date + timedelta(days=day, hours=17)\n",
    "    ) for day in range(7)\n",
    "]\n",
    "\n",
    "not_ok_shifts = [\n",
    "    Shift(\n",
    "        ShiftType.STANDARD,\n",
    "        start_time = start_date + timedelta(days=day, hours=9),\n",
    "        end_time = start_date + timedelta(days=day, hours=21)\n",
    "    ) for day in range(7)\n",
    "]"
   ]
  },
  {
   "cell_type": "code",
   "execution_count": null,
   "id": "6e002c05-bfe8-467d-ae91-7d68349b1ebf",
   "metadata": {},
   "outputs": [],
   "source": [
    "def hours_in_period(shifts: List[Shift], period: int):\n",
    "    hours = 0\n",
    "    \n",
    "    for shift in shifts:\n",
    "        start_time = shift.start_time\n",
    "        end_time = shift.start_time + timedelta(hours=period)\n",
    "\n",
    "        overlapping_shifts_duration = sum([\n",
    "            shift.duration() for shift in shifts \n",
    "            if calc_overlap(start_time, shift.start_time, end_time, shift.end_time) > 0\n",
    "        ])\n",
    "\n",
    "        hours = max(hours, overlapping_shifts_duration)\n",
    "\n",
    "    return hours\n",
    "        "
   ]
  },
  {
   "cell_type": "code",
   "execution_count": null,
   "id": "fdb2e857-b51a-44a4-a3e0-dbea32b49d6e",
   "metadata": {},
   "outputs": [],
   "source": [
    "scan(ok_shifts, 168)"
   ]
  },
  {
   "cell_type": "code",
   "execution_count": null,
   "id": "d616bfcf-6593-4127-ae55-22a7e66ff8d5",
   "metadata": {},
   "outputs": [],
   "source": [
    "scan(not_ok_shifts, 168)"
   ]
  },
  {
   "cell_type": "code",
   "execution_count": null,
   "id": "457f9464-6d90-4204-8667-e254a3d6a97c",
   "metadata": {},
   "outputs": [],
   "source": [
    "scan(ok_shifts, 168) / 1"
   ]
  },
  {
   "cell_type": "code",
   "execution_count": null,
   "id": "9c7959a4-d9f2-494c-94fe-551b0a8b17fe",
   "metadata": {},
   "outputs": [],
   "source": [
    "hash(frozenset([1,2,3,4]))"
   ]
  }
 ],
 "metadata": {
  "kernelspec": {
   "display_name": "Python 3 (ipykernel)",
   "language": "python",
   "name": "python3"
  },
  "language_info": {
   "codemirror_mode": {
    "name": "ipython",
    "version": 3
   },
   "file_extension": ".py",
   "mimetype": "text/x-python",
   "name": "python",
   "nbconvert_exporter": "python",
   "pygments_lexer": "ipython3",
   "version": "3.10.12"
  }
 },
 "nbformat": 4,
 "nbformat_minor": 5
}
